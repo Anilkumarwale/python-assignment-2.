{
 "cells": [
  {
   "cell_type": "raw",
   "id": "ca1100c1",
   "metadata": {},
   "source": [
    "1.What are the two values of the Boolean data type? How do you write them?\n",
    "Answer:\n",
    "    The two values of the boolean data types are True or False. T and F must be capital otherwise python will be considered it as error. True == 1, False == 0"
   ]
  },
  {
   "cell_type": "raw",
   "id": "3cbb8d84",
   "metadata": {},
   "source": [
    "2. What are the three different types of Boolean operators?\n",
    "Answer:\n",
    "    \"And\", \"or\", \"not\" are the three different types of boolean operators."
   ]
  },
  {
   "cell_type": "raw",
   "id": "649e7b5c",
   "metadata": {},
   "source": [
    "3. Make a list of each Boolean operator's truth tables (i.e. every possible combination of Boolean values for the operator and what it evaluate ).\n",
    "Answer:\n",
    "      a       b         a AND b       a OR b\n",
    "    True     True        True           True\n",
    "    True    False        False          True\n",
    "    False    True        False          True\n",
    "    False   False        False          False\n",
    "    \n",
    "    NOT\n",
    "    True - False\n",
    "    False - True"
   ]
  },
  {
   "cell_type": "raw",
   "id": "ae187450",
   "metadata": {},
   "source": [
    "4. What are the values of the following expressions?\n",
    "(5 > 4) and (3 == 5)                 = False\n",
    "not (5 > 4)                          = False\n",
    "(5 > 4) or (3 == 5)                  = True\n",
    "not ((5 > 4) or (3 == 5))            = False\n",
    "(True and True) and (True == False)  = False\n",
    "(not False) or (not True)            = True\n",
    "\n",
    "    "
   ]
  },
  {
   "cell_type": "raw",
   "id": "08fcd1f3",
   "metadata": {},
   "source": [
    "5. What are the six comparison operators?\n",
    "Answer:\n",
    "    1. lesser than                    <\n",
    "    2. greater than                   >\n",
    "    3. lesser than or equal to        <=\n",
    "    4. greater than or equal to       >=\n",
    "    5. equal to                       =\n",
    "    6. not equal to                   !="
   ]
  },
  {
   "cell_type": "raw",
   "id": "7742bdce",
   "metadata": {},
   "source": [
    "6. How do you tell the difference between the equal to and assignment operators?Describe a condition and when you would use one.\n",
    "Answer:\n",
    "        equal to is an 'assignment operator' used for assigning a value to a variable. == is an comparison operater which compares whether LHS = RHS.\n",
    "        example: a = 10, b = 20 10 is assigned for 'a' and 20 is assigned for 'b'.\n",
    "                  2 == 2 than the output is true.\n",
    "                  a == b 'a' is not equal to 'b' - False"
   ]
  },
  {
   "cell_type": "raw",
   "id": "1aa075e9",
   "metadata": {},
   "source": [
    "7. Identify the three blocks in this code:\n",
    "spam = 0\n",
    "if spam == 10:\n",
    "print('eggs')\n",
    "if spam > 5:\n",
    "print('bacon')\n",
    "else:\n",
    "print('ham')\n",
    "print('spam')\n",
    "print('spam')\n",
    "Answer:\n",
    "      'ham', 'spam', 'spam'"
   ]
  },
  {
   "cell_type": "raw",
   "id": "fbbf4040",
   "metadata": {},
   "source": [
    "8. Write code that prints Hello if 1 is stored in spam, prints Howdy if 2 is stored in spam, and prints Greetings! if anything else is stored in spam.\n",
    "Answer:\n",
    "    spam = int(input())\n",
    "    if spam == 1:\n",
    "       print(\"Hello\")\n",
    "    elif spam == 2:\n",
    "       print(\"Howdy\")\n",
    "    else:\n",
    "       print(\"Greeting!\")\n",
    "    \n",
    "     "
   ]
  },
  {
   "cell_type": "raw",
   "id": "1ea8ce21",
   "metadata": {},
   "source": [
    "9.If your programme is stuck in an endless loop, what keys you’ll press?\n",
    "Answer: 'kernel-interrupt' in jupyter notebook\n"
   ]
  },
  {
   "cell_type": "raw",
   "id": "aa80481f",
   "metadata": {},
   "source": [
    "10. How can you tell the difference between break and continue?\n",
    "Answer:  The break statement stops the loop in which the statement is placed, the continue statement skips the single iteration in a loop."
   ]
  },
  {
   "cell_type": "raw",
   "id": "99b316fd",
   "metadata": {},
   "source": [
    "11. In a for loop, what is the difference between range(10), range(0, 10), and range(0, 10, 1)?\n",
    "Answer:  There is no difference."
   ]
  },
  {
   "cell_type": "raw",
   "id": "a159b816",
   "metadata": {},
   "source": [
    "12. Write a short program that prints the numbers 1 to 10 using a for loop. Then write an equivalent program that prints the numbers 1 to 10 using a while loop.\n",
    "Answer: *For Loop\n",
    "for i in range(10):\n",
    "    print(i)\n",
    "    \n",
    "    *While Loop\n",
    "i = 1\n",
    "while i>0 and i<=10:\n",
    "    print(i)\n",
    "    i=i+1\n",
    " "
   ]
  },
  {
   "cell_type": "raw",
   "id": "6c005cb4",
   "metadata": {},
   "source": [
    "13. If you had a function named bacon() inside a module named spam, how would you call it after importing spam?\n",
    "Answer: spam.bacon()"
   ]
  }
 ],
 "metadata": {
  "kernelspec": {
   "display_name": "Python 3 (ipykernel)",
   "language": "python",
   "name": "python3"
  },
  "language_info": {
   "codemirror_mode": {
    "name": "ipython",
    "version": 3
   },
   "file_extension": ".py",
   "mimetype": "text/x-python",
   "name": "python",
   "nbconvert_exporter": "python",
   "pygments_lexer": "ipython3",
   "version": "3.9.7"
  }
 },
 "nbformat": 4,
 "nbformat_minor": 5
}
